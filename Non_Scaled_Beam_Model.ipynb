{
  "nbformat": 4,
  "nbformat_minor": 0,
  "metadata": {
    "accelerator": "GPU",
    "colab": {
      "name": "Non_Scaled_Beam_Model",
      "provenance": [],
      "collapsed_sections": [],
      "include_colab_link": true
    },
    "kernelspec": {
      "display_name": "Python 3",
      "name": "python3"
    }
  },
  "cells": [
    {
      "cell_type": "markdown",
      "metadata": {
        "id": "view-in-github",
        "colab_type": "text"
      },
      "source": [
        "<a href=\"https://colab.research.google.com/github/syedahamedchy/models/blob/master/Non_Scaled_Beam_Model.ipynb\" target=\"_parent\"><img src=\"https://colab.research.google.com/assets/colab-badge.svg\" alt=\"Open In Colab\"/></a>"
      ]
    },
    {
      "cell_type": "markdown",
      "metadata": {
        "id": "hFX6Du5IEIp4"
      },
      "source": [
        "Import Relevant Libraries"
      ]
    },
    {
      "cell_type": "code",
      "metadata": {
        "id": "i6fspzID4pVC"
      },
      "source": [
        "import jax\n",
        "import jax.numpy as jnp\n",
        "import numpy as np\n",
        "import pandas as pd\n",
        "from jax.experimental.ode import odeint\n",
        "import matplotlib.pyplot as plt\n",
        "from functools import partial\n",
        "from jax.experimental import stax\n",
        "from jax.experimental import optimizers\n",
        "import matplotlib.pyplot as plt\n",
        "from matplotlib.patches import Circle\n",
        "from jax.lib import xla_bridge\n",
        "from google.colab import drive, files"
      ],
      "execution_count": 3,
      "outputs": []
    },
    {
      "cell_type": "markdown",
      "metadata": {
        "id": "kUN_oCTSDTcs"
      },
      "source": [
        "Get Training and Test Data"
      ]
    },
    {
      "cell_type": "code",
      "metadata": {
        "colab": {
          "base_uri": "https://localhost:8080/"
        },
        "id": "-NygCOTDjwaX",
        "outputId": "4de8df52-da1e-4e9d-bd7f-437d90b6bf21"
      },
      "source": [
        "drive.mount('/content/drive')\n",
        "\n",
        "# Get training dataset:\n",
        "with open('/content/drive/My Drive/Colab Notebooks/FYP/Data/Cam2_sinus_6.8Hz_1000mV/x_smoothed.csv', newline='') as csvfile:\n",
        "  df = pd.read_csv(csvfile, delimiter=',')\n",
        "\n",
        "L = (300/2210) #Pixel to mm scaling\n",
        "\n",
        "raw = np.array(df['19'])\n",
        "x_train = (raw - raw.mean(axis=0))*L\n",
        "t_train = np.arange(len(x_train), dtype=np.float32) \n",
        "xdot_train = np.gradient(x_train)\n",
        "xdotdot_train = np.gradient(xdot_train)\n",
        "\n",
        "with open('/content/drive/My Drive/Colab Notebooks/FYP/Data/Cam2_sinus_6.8Hz_1000mV/y_smoothed.csv', newline='') as csvfile:\n",
        "  df = pd.read_csv(csvfile, delimiter=',')\n",
        "\n",
        "raw = np.array(df['19'])\n",
        "y_train = (raw - raw.mean(axis=0))*L\n",
        "ydot_train = np.gradient(y_train)\n",
        "ydotdot_train = np.gradient(ydot_train)\n",
        "\n",
        "x_train = np.stack((x_train, y_train, xdot_train, ydot_train), axis=1)\n",
        "xt_train = np.stack((xdot_train, ydot_train, xdotdot_train, ydotdot_train), axis=1)\n",
        "\n",
        "# Get testing dataset:\n",
        "with open('/content/drive/My Drive/Colab Notebooks/FYP/Data/Cam2_sinus_6.8Hz_400mV/x_smoothed.csv', newline='') as csvfile:\n",
        "  df = pd.read_csv(csvfile, delimiter=',')\n",
        "\n",
        "raw = np.array(df['19'])\n",
        "x_test = (raw - raw.mean(axis=0))*L\n",
        "t_test = np.arange(len(x_test), dtype=np.float32) \n",
        "xdot_test = np.gradient(x_test)\n",
        "xdotdot_test = np.gradient(xdot_test)\n",
        "\n",
        "with open('/content/drive/My Drive/Colab Notebooks/FYP/Data/Cam2_sinus_6.8Hz_400mV/y_smoothed.csv', newline='') as csvfile:\n",
        "  df = pd.read_csv(csvfile, delimiter=',')\n",
        "\n",
        "raw = np.array(df['19'])\n",
        "y_test = (raw - raw.mean(axis=0))*L\n",
        "ydot_test = np.gradient(y_test)\n",
        "ydotdot_test = np.gradient(ydot_test)\n",
        "\n",
        "x_test = np.stack((x_test, y_test, xdot_test, ydot_test), axis=1)\n",
        "xt_test = np.stack((xdot_test, ydot_test, xdotdot_test, ydotdot_test), axis=1)"
      ],
      "execution_count": 4,
      "outputs": [
        {
          "output_type": "stream",
          "text": [
            "Drive already mounted at /content/drive; to attempt to forcibly remount, call drive.mount(\"/content/drive\", force_remount=True).\n"
          ],
          "name": "stdout"
        }
      ]
    },
    {
      "cell_type": "code",
      "metadata": {
        "colab": {
          "base_uri": "https://localhost:8080/",
          "height": 334
        },
        "id": "7F_CGQKT1Nw1",
        "outputId": "21d5a580-faf8-4f64-c14d-97ea4336bf6f"
      },
      "source": [
        "plt.plot(t_train, x_train)"
      ],
      "execution_count": 8,
      "outputs": [
        {
          "output_type": "execute_result",
          "data": {
            "text/plain": [
              "[<matplotlib.lines.Line2D at 0x7f5083f219d0>,\n",
              " <matplotlib.lines.Line2D at 0x7f5083f21bd0>,\n",
              " <matplotlib.lines.Line2D at 0x7f5083f21d90>,\n",
              " <matplotlib.lines.Line2D at 0x7f5083f21f50>]"
            ]
          },
          "metadata": {
            "tags": []
          },
          "execution_count": 8
        },
        {
          "output_type": "display_data",
          "data": {
            "image/png": "[encoded data removed]",
            "text/plain": [
              "<Figure size 432x288 with 1 Axes>"
            ]
          },
          "metadata": {
            "tags": [],
            "needs_background": "light"
          }
        }
      ]
    },
    {
      "cell_type": "markdown",
      "metadata": {
        "id": "4nYcnAlzDeGv"
      },
      "source": [
        "Define Relevant Functions"
      ]
    },
    {
      "cell_type": "code",
      "metadata": {
        "id": "SivvDl7qhWaI"
      },
      "source": [
        "def equation_of_motion(lagrangian, state, t=None):\n",
        "  q, q_t = jnp.split(state, 2)\n",
        "  q_tt = (jnp.linalg.pinv(jax.hessian(lagrangian, 1)(q, q_t))\n",
        "          @ (jax.grad(lagrangian, 0)(q, q_t)\n",
        "             - jax.jacobian(jax.jacobian(lagrangian, 1), 0)(q, q_t) @ q_t))\n",
        "  return jnp.concatenate([q_t, q_tt])\n",
        "\n",
        "# Use the odeint to solve the Lagrangian modelled system.\n",
        "def solve_lagrangian(lagrangian, initial_state, **kwargs):\n",
        "  @partial(jax.jit, backend='gpu')\n",
        "  def f(initial_state):\n",
        "    return odeint(partial(equation_of_motion, lagrangian),\n",
        "                  initial_state, **kwargs)\n",
        "  return f(initial_state)\n",
        "\n",
        "# Ensure that all inputs are normalised to only vary between -1 and 1. \n",
        "def normalise(state):\n",
        "  return jnp.concatenate([state[:2], state[2:]])\n",
        "\n",
        "# def normalise(state):\n",
        "#   return jnp.concatenate([(state[:2] + 1) % (2) - 1, state[2:]])\n",
        "\n",
        "# Define 4th order Runge-Kutta method for integration of losses. \n",
        "def rk4_step(f, x, t, h):\n",
        "  k1 = h * f(x, t)\n",
        "  k2 = h * f(x + k1/2, t + h/2)\n",
        "  k3 = h * f(x + k2/2, t + h/2)\n",
        "  k4 = h * f(x + k3, t + h)\n",
        "  return x + 1/6 * (k1 + 2 * k2 + 2 * k3 + k4)"
      ],
      "execution_count": 3,
      "outputs": []
    },
    {
      "cell_type": "markdown",
      "metadata": {
        "id": "KBcyu_pLDliW"
      },
      "source": [
        "Initialise Neural Network"
      ]
    },
    {
      "cell_type": "code",
      "metadata": {
        "id": "v5ol4qrnxyXP"
      },
      "source": [
        "def learned_lagrangian(params):\n",
        "  def lagrangian(q, q_t):\n",
        "    assert q.shape == (2,)\n",
        "    state = normalise(jnp.concatenate([q, q_t]))\n",
        "    return jnp.squeeze(nn_forward_fn(params, state), axis=-1)\n",
        "  return lagrangian\n",
        "\n",
        "# Now we define the loss function of the model. In our case it is the Mean \n",
        "# Squared Error between the predicted and the observed accelerations. \n",
        "@jax.jit\n",
        "def loss(params, batch, time_step=None):\n",
        "  state, targets = batch\n",
        "  if time_step is not None:\n",
        "    f = partial(equation_of_motion, learned_lagrangian(params))\n",
        "    preds = jax.vmap(partial(rk4_step, f, t=0.0, h=time_step))(state)\n",
        "  else:\n",
        "    preds = jax.vmap(partial(equation_of_motion, learned_lagrangian(params)))(state)\n",
        "  return jnp.mean((preds - targets) ** 2)\n",
        "\n",
        "# Set up the Neural Network. \n",
        "init_random_params, nn_forward_fn = stax.serial(\n",
        "    stax.Dense(64),\n",
        "    stax.Softplus,\n",
        "    stax.Dense(64),\n",
        "    stax.Softplus,\n",
        "    stax.Dense(1),\n",
        ")\n",
        "\n",
        "@jax.jit\n",
        "def update_derivative(i, opt_state, batch):\n",
        "  params = get_params(opt_state)\n",
        "  return opt_update(i, jax.grad(loss)(params, batch, None), opt_state)"
      ],
      "execution_count": 4,
      "outputs": []
    },
    {
      "cell_type": "markdown",
      "metadata": {
        "id": "jK5CtFKCDutk"
      },
      "source": [
        "Train the Neural Network"
      ]
    },
    {
      "cell_type": "code",
      "metadata": {
        "id": "NclCXsBn18OK",
        "colab": {
          "base_uri": "https://localhost:8080/"
        },
        "outputId": "e48ff551-50ac-4453-98a9-1ceb0d13f09d"
      },
      "source": [
        "# Initialise the parametes in the neural network to be random. \n",
        "rng = jax.random.PRNGKey(0)\n",
        "_, init_params = init_random_params(rng, (-1, 4))\n",
        "\n",
        "# Define the training process. \n",
        "batch_size = 100\n",
        "test_every = 10\n",
        "num_batches = 500 # Further training seems to overfit the model. \n",
        "# Change no. batches to 2500 and batch size to 10 if you are training with multiple experimental datasets. \n",
        "\n",
        "train_losses = []\n",
        "test_losses = []\n",
        "\n",
        "# Define the training optimiser.\n",
        "opt_init, opt_update, get_params = optimizers.adam(\n",
        "    lambda t: jnp.select([t < batch_size*(num_batches//3),\n",
        "                          t < batch_size*(2*num_batches//3),\n",
        "                          t > batch_size*(2*num_batches//3)],\n",
        "                         [1e-3, 3e-4, 1e-4]))\n",
        "opt_state = opt_init(init_params)\n",
        "\n",
        "# Perform training process. \n",
        "for iteration in range(batch_size*num_batches + 1):\n",
        "  if iteration % batch_size == 0:\n",
        "    params = get_params(opt_state)\n",
        "    train_loss = loss(params, (x_train, xt_train))\n",
        "    train_losses.append(train_loss)\n",
        "    test_loss = loss(params, (x_test, xt_test))\n",
        "    test_losses.append(test_loss)\n",
        "    if iteration % (batch_size*test_every) == 0:\n",
        "      print(f\"iteration={iteration}, train_loss={train_loss:.6f}, test_loss={test_loss:.6f}\")\n",
        "  opt_state = update_derivative(iteration, opt_state, (x_train, xt_train))\n",
        "\n",
        "params = get_params(opt_state)"
      ],
      "execution_count": 5,
      "outputs": [
        {
          "output_type": "stream",
          "text": [
            "iteration=0, train_loss=237.869812, test_loss=47.611095\n",
            "iteration=1000, train_loss=0.009333, test_loss=0.033174\n",
            "iteration=2000, train_loss=0.001545, test_loss=0.029582\n",
            "iteration=3000, train_loss=0.000911, test_loss=0.029942\n",
            "iteration=4000, train_loss=0.000622, test_loss=0.030268\n",
            "iteration=5000, train_loss=0.000479, test_loss=0.030851\n",
            "iteration=6000, train_loss=0.000412, test_loss=0.031331\n",
            "iteration=7000, train_loss=0.000381, test_loss=0.031183\n",
            "iteration=8000, train_loss=0.000362, test_loss=0.029987\n",
            "iteration=9000, train_loss=0.000351, test_loss=0.028058\n",
            "iteration=10000, train_loss=0.000337, test_loss=0.025558\n",
            "iteration=11000, train_loss=0.002418, test_loss=0.018068\n",
            "iteration=12000, train_loss=0.000316, test_loss=0.019107\n",
            "iteration=13000, train_loss=0.000381, test_loss=0.015717\n",
            "iteration=14000, train_loss=0.000305, test_loss=0.012989\n",
            "iteration=15000, train_loss=0.000298, test_loss=0.011219\n",
            "iteration=16000, train_loss=0.000452, test_loss=0.010433\n",
            "iteration=17000, train_loss=0.000289, test_loss=0.007716\n",
            "iteration=18000, train_loss=0.000285, test_loss=0.006831\n",
            "iteration=19000, train_loss=0.000280, test_loss=0.005870\n",
            "iteration=20000, train_loss=0.000283, test_loss=0.005210\n",
            "iteration=21000, train_loss=0.000269, test_loss=0.004378\n",
            "iteration=22000, train_loss=0.000262, test_loss=0.004131\n",
            "iteration=23000, train_loss=0.000258, test_loss=0.003974\n",
            "iteration=24000, train_loss=0.000248, test_loss=0.005100\n",
            "iteration=25000, train_loss=0.000242, test_loss=0.006281\n",
            "iteration=26000, train_loss=0.000256, test_loss=0.004311\n",
            "iteration=27000, train_loss=0.000235, test_loss=0.007936\n",
            "iteration=28000, train_loss=0.000238, test_loss=0.007072\n",
            "iteration=29000, train_loss=0.000233, test_loss=0.008472\n",
            "iteration=30000, train_loss=0.000228, test_loss=0.009636\n",
            "iteration=31000, train_loss=0.000228, test_loss=0.009351\n",
            "iteration=32000, train_loss=0.000264, test_loss=0.012202\n",
            "iteration=33000, train_loss=0.000216, test_loss=0.012872\n",
            "iteration=34000, train_loss=0.000212, test_loss=0.014628\n",
            "iteration=35000, train_loss=0.000211, test_loss=0.015975\n",
            "iteration=36000, train_loss=0.000211, test_loss=0.015985\n",
            "iteration=37000, train_loss=0.000202, test_loss=0.015692\n",
            "iteration=38000, train_loss=0.000197, test_loss=0.017212\n",
            "iteration=39000, train_loss=0.000191, test_loss=0.018993\n",
            "iteration=40000, train_loss=0.000191, test_loss=0.019070\n",
            "iteration=41000, train_loss=0.000183, test_loss=0.020209\n",
            "iteration=42000, train_loss=0.000179, test_loss=0.019803\n",
            "iteration=43000, train_loss=0.000201, test_loss=0.018497\n",
            "iteration=44000, train_loss=0.000174, test_loss=0.017653\n",
            "iteration=45000, train_loss=0.000168, test_loss=0.017300\n",
            "iteration=46000, train_loss=0.000164, test_loss=0.016417\n",
            "iteration=47000, train_loss=0.000156, test_loss=0.016144\n",
            "iteration=48000, train_loss=0.000150, test_loss=0.015787\n",
            "iteration=49000, train_loss=0.000147, test_loss=0.015140\n",
            "iteration=50000, train_loss=0.000143, test_loss=0.014581\n"
          ],
          "name": "stdout"
        }
      ]
    },
    {
      "cell_type": "code",
      "metadata": {
        "id": "bzVojEqV2cdx",
        "colab": {
          "base_uri": "https://localhost:8080/",
          "height": 437
        },
        "outputId": "b4cc82e4-9079-4aa3-96fc-9408090797fb"
      },
      "source": [
        "plt.figure(figsize=(8, 3.5), dpi=120)\n",
        "plt.plot(train_losses, label='Train Loss')\n",
        "plt.plot(test_losses, label='Test Loss')\n",
        "plt.yscale('log')\n",
        "plt.ylim(None, 200)\n",
        "plt.title('Losses over Training')\n",
        "plt.xlabel(\"Train Step\")\n",
        "plt.ylabel(\"Mean Squared Error\")\n",
        "plt.legend()\n",
        "plt.show()"
      ],
      "execution_count": 6,
      "outputs": [
        {
          "output_type": "display_data",
          "data": {
            "image/png": "[encoded data removed]",
            "text/plain": [
              "<Figure size 960x420 with 1 Axes>"
            ]
          },
          "metadata": {
            "tags": [],
            "needs_background": "light"
          }
        }
      ]
    },
    {
      "cell_type": "markdown",
      "metadata": {
        "id": "FlY12MsZKet6"
      },
      "source": [
        "Make Predictions Using Trained Model"
      ]
    },
    {
      "cell_type": "code",
      "metadata": {
        "id": "-IPfoLFn6Q5V"
      },
      "source": [
        "# Compare to training dataset.\n",
        "experimental = x_train\n",
        "N = len(x_train[:, 0])\n",
        "time = np.linspace(0, N, N)\n",
        "X0 = x_train[0, :]\n",
        "# %time predicted = jax.device_get(solve_lagrangian(learned_lagrangian(params), X0, t=time))\n",
        "model = solve_lagrangian(learned_lagrangian(params), X0, t=time)\n",
        "time = time*0.003\n",
        "\n",
        "# # De-normalise the data and scale it to real-life. \n",
        "# L = 300/2210\n",
        "# experimental[:, 0] = (experimental[:, 0] * x_train_std * L) #+ x_train_mean\n",
        "# experimental[:, 1] = (experimental[:, 1] * y_train_std * L) #+ y_train_mean\n",
        "# model = np.empty_like(predicted)\n",
        "# model[:, 0] = (predicted[:, 0] * x_train_std * L ) #+ x_train_mean\n",
        "# model[:, 1] = (predicted[:, 1] * y_train_std * L ) #+ y_train_mean\n",
        "\n",
        "# Plot them alongside. \n",
        "figure, axis = plt.subplots(2, 1, figsize=(10,15))\n",
        "\n",
        "axis[0].set_title(\"Experimental vs LNN: Y-Displacement (Training Data)\", fontsize=16)\n",
        "axis[0].plot(time, experimental[:, 1], 'g-', label=r'Exact Displacement')\n",
        "axis[0].plot(time, model[:, 1], 'r--', label=r'LNN Predicted Displacement')\n",
        "axis[0].set_xlabel(\"Time (s)\", fontsize=16)\n",
        "axis[0].set_ylabel(\"Displacement (mm)\", fontsize=16)\n",
        "axis[0].legend(fontsize=14, loc='lower right')\n",
        "plt.rc('xtick', labelsize='LARGE')\n",
        "\n",
        "axis[1].set_title(\"Experimental vs LNN: X-Displacement (Training Data)\", fontsize=16)\n",
        "axis[1].plot(time, experimental[:, 0], 'g-', label=r'Exact Displacement')\n",
        "axis[1].plot(time, model[:, 0], 'r--', label=r'LNN Predicted Displacement')\n",
        "axis[1].set_xlabel(\"Time (s)\", fontsize=16)\n",
        "axis[1].set_ylabel(\"Displacement (mm)\", fontsize=16)\n",
        "axis[1].legend(fontsize=14, loc='lower right')\n",
        "plt.rc('xtick', labelsize='LARGE')"
      ],
      "execution_count": null,
      "outputs": []
    },
    {
      "cell_type": "code",
      "metadata": {
        "id": "zmO4R-2K3Xwb"
      },
      "source": [
        "# Compare to testing dataset. \n",
        "experimental = x_test\n",
        "N = len(x_test[:, 0])\n",
        "time = np.linspace(0, N, N)\n",
        "X0 = x_test[0, :]\n",
        "model = solve_lagrangian(learned_lagrangian(params), X0, t=time)\n",
        "time = time*0.003\n",
        "\n",
        "# # De-normalise the data and scale it to real-life. \n",
        "# L = 300/2210\n",
        "# experimental[:, 0] = (experimental[:, 0] * x_test_std * L) #+ x_train_mean\n",
        "# experimental[:, 1] = (experimental[:, 1] * y_test_std * L) #+ y_train_mean\n",
        "# model = np.empty_like(predicted)\n",
        "# model[:, 0] = (predicted[:, 0] * x_test_std * L ) #+ x_train_mean\n",
        "# model[:, 1] = (predicted[:, 1] * y_test_std * L ) #+ y_train_mean\n",
        "\n",
        "# Plot them alongside. \n",
        "figure, axis = plt.subplots(2, 1, figsize=(10,15))\n",
        "\n",
        "axis[0].set_title(\"Experimental vs LNN: Y-Displacement (Testing Data)\", fontsize=16)\n",
        "axis[0].plot(time, experimental[:, 1], 'g-', label=r'Exact Displacement')\n",
        "axis[0].plot(time, model[:, 1], 'r--', label=r'LNN Predicted Displacement')\n",
        "axis[0].set_xlabel(\"Time (s)\", fontsize=16)\n",
        "axis[0].set_ylabel(\"Displacement (mm)\", fontsize=16)\n",
        "axis[0].legend(fontsize=14, loc='lower right')\n",
        "plt.rc('xtick', labelsize='LARGE')\n",
        "\n",
        "axis[1].set_title(\"Experimental vs LNN: X-Displacement (Testing Data)\", fontsize=16)\n",
        "axis[1].plot(time, experimental[:, 0], 'g-', label=r'Exact Displacement')\n",
        "axis[1].plot(time, model[:, 0], 'r--', label=r'LNN Predicted Displacement')\n",
        "axis[1].set_xlabel(\"Time (s)\", fontsize=16)\n",
        "axis[1].set_ylabel(\"Displacement (mm)\", fontsize=16)\n",
        "axis[1].legend(fontsize=14, loc='lower right')\n",
        "plt.rc('xtick', labelsize='LARGE')"
      ],
      "execution_count": null,
      "outputs": []
    },
    {
      "cell_type": "code",
      "metadata": {
        "id": "6rJ6B-1wFFjz"
      },
      "source": [
        "# Make predictions with testing dataset beyond the experimentally observed time period. \n",
        "experimental = x_test\n",
        "N = len(x_test[:, 0])\n",
        "time = np.linspace(0, 4*N, 2*N)\n",
        "X0 = x_test[0, :]\n",
        "predicted = solve_lagrangian(learned_lagrangian(params), X0, t=time)\n",
        "time = time*0.003\n",
        "\n",
        "# De-normalise the data and scale it to real-life. \n",
        "L = 300/2210\n",
        "experimental[:, 0] = (experimental[:, 0] * x_test_std * L) \n",
        "experimental[:, 1] = (experimental[:, 1] * y_test_std * L) \n",
        "model = np.empty_like(predicted)\n",
        "model[:, 0] = (predicted[:, 0] * x_test_std * L ) \n",
        "model[:, 1] = (predicted[:, 1] * y_test_std * L ) \n",
        "\n",
        "# Plot them alongside. \n",
        "figure, axis = plt.subplots(2, 1, figsize=(25,15))\n",
        "\n",
        "axis[0].set_title(\"Experimental vs LNN: Y-Displacement (Testing Data Extended)\", fontsize=16)\n",
        "axis[0].plot(time[0:N], experimental[:, 1], 'g-', label=r'Exact Displacement')\n",
        "axis[0].plot(time, model[:, 1], 'r--', label=r'LNN Predicted Displacement')\n",
        "axis[0].set_xlabel(\"Time (s)\", fontsize=16)\n",
        "axis[0].set_ylabel(\"Displacement (mm)\", fontsize=16)\n",
        "axis[0].legend(fontsize=14, loc='lower right')\n",
        "plt.rc('xtick', labelsize='LARGE')\n",
        "\n",
        "axis[1].set_title(\"Experimental vs LNN: X-Displacement (Testing Data Extended)\", fontsize=16)\n",
        "axis[1].plot(time[0:N], experimental[:, 0], 'g-', label=r'Exact Displacement')\n",
        "axis[1].plot(time, model[:, 0], 'r--', label=r'LNN Predicted Displacement')\n",
        "axis[1].set_xlabel(\"Time (s)\", fontsize=16)\n",
        "axis[1].set_ylabel(\"Displacement (mm)\", fontsize=16)\n",
        "axis[1].legend(fontsize=14, loc='lower right')\n",
        "plt.rc('xtick', labelsize='LARGE')"
      ],
      "execution_count": null,
      "outputs": []
    }
  ]
}